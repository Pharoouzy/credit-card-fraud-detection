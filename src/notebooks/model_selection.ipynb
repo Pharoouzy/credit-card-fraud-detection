{
 "cells": [
  {
   "cell_type": "code",
   "execution_count": 2,
   "metadata": {},
   "outputs": [],
   "source": [
    "# import necessary libraries\n",
    "import pandas as pd\n",
    "\n",
    "from sklearn.linear_model import LogisticRegression\n",
    "from sklearn.naive_bayes import GaussianNB\n",
    "from sklearn.neighbors import KNeighborsClassifier\n",
    "from sklearn.tree import DecisionTreeClassifier\n",
    "from sklearn.svm import SVC\n",
    "\n",
    "from sklearn.model_selection import cross_val_score\n",
    "from sklearn.model_selection import train_test_split\n",
    "from sklearn.model_selection import StratifiedKFold\n"
   ]
  },
  {
   "cell_type": "code",
   "execution_count": 3,
   "metadata": {},
   "outputs": [],
   "source": [
    "# read in the data\n",
    "df = pd.read_csv('../../datasets/creditcard.csv')\n",
    "# specify features and target variable\n",
    "X = df.drop(columns='Class')\n",
    "y = df['Class']"
   ]
  },
  {
   "cell_type": "code",
   "execution_count": 4,
   "metadata": {},
   "outputs": [],
   "source": [
    "# split the data into train and holdout sets\n",
    "X_train, X_holdout, y_train, y_holdout = train_test_split(X, y, test_size=0.2, stratify=y, random_state=1)"
   ]
  },
  {
   "cell_type": "code",
   "execution_count": 10,
   "metadata": {},
   "outputs": [],
   "source": [
    "# specify the models to evaluate\n",
    "models = [('logit', LogisticRegression(max_iter = 1000, random_state=1)), ('NB', GaussianNB())\\\n",
    "          , ('KNN', KNeighborsClassifier(n_jobs=-1)), ('DT', DecisionTreeClassifier(random_state=1))\\\n",
    "            , ('SVM', SVC(random_state=1))]"
   ]
  },
  {
   "cell_type": "code",
   "execution_count": 13,
   "metadata": {},
   "outputs": [
    {
     "name": "stdout",
     "output_type": "stream",
     "text": [
      "logit: 0.8449829677758091\n",
      "NB: 0.6141593607164253\n",
      "KNN: 0.5534817928192173\n",
      "DT: 0.8681525183139875\n",
      "SVM: 0.49956731448888075\n"
     ]
    }
   ],
   "source": [
    "# evaluate each model using cross-validation\n",
    "cv = StratifiedKFold(n_splits=10, shuffle=True, random_state=1)\n",
    "for name, model in models:\n",
    "    scores = cross_val_score(model, X_train, y_train, cv=cv, scoring='f1_macro')\n",
    "    print(f'{name}: {scores.mean()}')"
   ]
  }
 ],
 "metadata": {
  "kernelspec": {
   "display_name": "complaints",
   "language": "python",
   "name": "python3"
  },
  "language_info": {
   "codemirror_mode": {
    "name": "ipython",
    "version": 3
   },
   "file_extension": ".py",
   "mimetype": "text/x-python",
   "name": "python",
   "nbconvert_exporter": "python",
   "pygments_lexer": "ipython3",
   "version": "3.8.12"
  },
  "orig_nbformat": 4
 },
 "nbformat": 4,
 "nbformat_minor": 2
}
